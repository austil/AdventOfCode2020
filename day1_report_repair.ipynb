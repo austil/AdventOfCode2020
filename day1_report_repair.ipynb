{
 "cells": [
  {
   "cell_type": "markdown",
   "metadata": {},
   "source": [
    "# Day 1 : Report Repair\n",
    "\n",
    "## Part1\n",
    "\n",
    "Input : an expense report, aka a list of numbers  \n",
    "Goal : find the two entries that sum to 2020 and then multiply those two numbers together"
   ]
  },
  {
   "cell_type": "code",
   "execution_count": null,
   "metadata": {},
   "outputs": [],
   "source": [
    "import itertools\n",
    "from math import prod\n",
    "from typing import List"
   ]
  },
  {
   "cell_type": "code",
   "execution_count": null,
   "metadata": {},
   "outputs": [],
   "source": [
    "def expenseReportFixNumber(expenses: List[int], productSize: int) -> int:\n",
    "    for es in itertools.product(expenses, repeat=productSize):\n",
    "        if sum(es) == 2020:\n",
    "            return prod(es)"
   ]
  },
  {
   "cell_type": "code",
   "execution_count": 3,
   "metadata": {},
   "outputs": [],
   "source": [
    "import unittest\n",
    "\n",
    "sampleExpenses1 = [ 1721, 979, 366, 299, 675, 1456 ]\n",
    "\n",
    "class SamplesTests(unittest.TestCase):\n",
    "    \n",
    "    def part_one(self):\n",
    "        self.assertEqual(expenseReportFixNumber(sampleExpenses1, 2), 514579)\n",
    "    \n",
    "    def part_two(self):\n",
    "        self.assertEqual(expenseReportFixNumber(sampleExpenses1, 3), 241861950)\n",
    "\n",
    "unittest.main(argv=[''], verbosity=2, exit=False)"
   ]
  },
  {
   "cell_type": "code",
   "execution_count": 4,
   "metadata": {},
   "outputs": [],
   "source": [
    "with open(\"puzzle_inputs/day1_part1.txt\", \"r\") as f:\n",
    "    input = [int(i) for i in f.readlines()]"
   ]
  },
  {
   "cell_type": "code",
   "execution_count": 5,
   "metadata": {},
   "outputs": [
    {
     "name": "stdout",
     "output_type": "stream",
     "text": [
      "646779\n"
     ]
    }
   ],
   "source": [
    "print(expenseReportFixNumber(input, 2))"
   ]
  },
  {
   "cell_type": "markdown",
   "metadata": {},
   "source": [
    "## Part 2\n",
    "\n",
    "Goal : find the three entries that sum to 2020 and then multiply those together"
   ]
  },
  {
   "cell_type": "code",
   "execution_count": 6,
   "metadata": {},
   "outputs": [
    {
     "name": "stdout",
     "output_type": "stream",
     "text": [
      "246191688\n"
     ]
    }
   ],
   "source": [
    "print(expenseReportFixNumber(input, 3))"
   ]
  }
 ],
 "metadata": {
  "kernelspec": {
   "display_name": "Python 3",
   "language": "python",
   "name": "python3"
  },
  "language_info": {
   "codemirror_mode": {
    "name": "ipython",
    "version": 3
   },
   "file_extension": ".py",
   "mimetype": "text/x-python",
   "name": "python",
   "nbconvert_exporter": "python",
   "pygments_lexer": "ipython3",
   "version": "3.8.5"
  }
 },
 "nbformat": 4,
 "nbformat_minor": 4
}
